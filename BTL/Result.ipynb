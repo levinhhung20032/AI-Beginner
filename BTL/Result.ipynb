{
 "cells": [
  {
   "cell_type": "code",
   "execution_count": 3,
   "id": "initial_id",
   "metadata": {
    "collapsed": true,
    "ExecuteTime": {
     "end_time": "2023-08-08T17:02:50.967170400Z",
     "start_time": "2023-08-08T17:02:50.949142Z"
    }
   },
   "outputs": [],
   "source": [
    "import numpy as np\n",
    "import pandas as pd\n",
    "from IPython.display import display\n",
    "from BTL import TaCanh\n",
    "from BTL import BFS\n",
    "from BTL import DFS\n",
    "from BTL import Best_First_Search\n",
    "from BTL import Depth_Deepening_Search\n",
    "from BTL import Hill_Climbing_Search\n",
    "from BTL import Beam_Search"
   ]
  },
  {
   "cell_type": "code",
   "execution_count": 4,
   "outputs": [],
   "source": [
    "# Test case for 3x3 and n steps:\n",
    "test_3_5 = [1, 2, 3, 7, 4, 5, 8, 9, 6]\n",
    "test_3_10 = [4, 1, 3, 5, 9, 6, 2, 7, 8]\n",
    "test_3_15 = [4, 6, 1, 7, 8, 2, 5, 9, 3]\n",
    "\n",
    "# Test case for 4x4 and n steps:\n",
    "test_4_5 = [1, 16, 3, 4, 5, 2, 7, 8, 9, 6, 10, 12, 13, 14, 11, 15]\n",
    "test_4_10 = [1, 2, 16, 3, 6, 7, 8, 4, 5, 10, 11, 12, 9, 13, 14, 15]\n",
    "test_4_15 = [5, 1, 2, 3, 9, 10, 6, 4, 13, 16, 7, 8, 14, 15, 11, 12]"
   ],
   "metadata": {
    "collapsed": false,
    "ExecuteTime": {
     "end_time": "2023-08-08T17:02:50.975140Z",
     "start_time": "2023-08-08T17:02:50.959239300Z"
    }
   },
   "id": "a4428cb163bb3f38"
  },
  {
   "cell_type": "markdown",
   "source": [
    "# Result of 3x3 and 5 steps:"
   ],
   "metadata": {
    "collapsed": false
   },
   "id": "b962787505d41da0"
  },
  {
   "cell_type": "code",
   "execution_count": 5,
   "outputs": [
    {
     "data": {
      "text/plain": "                     1       2       3       4       5       6       7  \\\nBề rộng         0.2073  0.1669  0.1599  0.1598  0.1572  0.1610  0.1535   \nChiều sâu       0.1608  0.1533  0.1476  0.1472  0.1515  0.1466  0.1433   \nSâu lặp (5-15)  0.2762  0.2634  0.2595  0.2600  0.2560  0.2508  0.2517   \nTốt nhất        0.0581  0.0405  0.0387  0.0372  0.0390  0.0363  0.0367   \nLeo đồi         0.0492  0.0372  0.0355  0.0355  0.0354  0.0350  0.0344   \nBeam (4)        0.0968  0.0817  0.0798  0.0780  0.0799  0.0769  0.0796   \n\n                     8       9      10  Trung bình  \nBề rộng         0.1577  0.1528  0.1676     0.16437  \nChiều sâu       0.1459  0.1424  0.1448     0.14834  \nSâu lặp (5-15)  0.2584  0.2512  0.2535     0.25807  \nTốt nhất        0.0383  0.0359  0.0366     0.03973  \nLeo đồi         0.0348  0.0360  0.0342     0.03672  \nBeam (4)        0.0785  0.0785  0.0767     0.08064  ",
      "text/html": "<div>\n<style scoped>\n    .dataframe tbody tr th:only-of-type {\n        vertical-align: middle;\n    }\n\n    .dataframe tbody tr th {\n        vertical-align: top;\n    }\n\n    .dataframe thead th {\n        text-align: right;\n    }\n</style>\n<table border=\"1\" class=\"dataframe\">\n  <thead>\n    <tr style=\"text-align: right;\">\n      <th></th>\n      <th>1</th>\n      <th>2</th>\n      <th>3</th>\n      <th>4</th>\n      <th>5</th>\n      <th>6</th>\n      <th>7</th>\n      <th>8</th>\n      <th>9</th>\n      <th>10</th>\n      <th>Trung bình</th>\n    </tr>\n  </thead>\n  <tbody>\n    <tr>\n      <th>Bề rộng</th>\n      <td>0.2073</td>\n      <td>0.1669</td>\n      <td>0.1599</td>\n      <td>0.1598</td>\n      <td>0.1572</td>\n      <td>0.1610</td>\n      <td>0.1535</td>\n      <td>0.1577</td>\n      <td>0.1528</td>\n      <td>0.1676</td>\n      <td>0.16437</td>\n    </tr>\n    <tr>\n      <th>Chiều sâu</th>\n      <td>0.1608</td>\n      <td>0.1533</td>\n      <td>0.1476</td>\n      <td>0.1472</td>\n      <td>0.1515</td>\n      <td>0.1466</td>\n      <td>0.1433</td>\n      <td>0.1459</td>\n      <td>0.1424</td>\n      <td>0.1448</td>\n      <td>0.14834</td>\n    </tr>\n    <tr>\n      <th>Sâu lặp (5-15)</th>\n      <td>0.2762</td>\n      <td>0.2634</td>\n      <td>0.2595</td>\n      <td>0.2600</td>\n      <td>0.2560</td>\n      <td>0.2508</td>\n      <td>0.2517</td>\n      <td>0.2584</td>\n      <td>0.2512</td>\n      <td>0.2535</td>\n      <td>0.25807</td>\n    </tr>\n    <tr>\n      <th>Tốt nhất</th>\n      <td>0.0581</td>\n      <td>0.0405</td>\n      <td>0.0387</td>\n      <td>0.0372</td>\n      <td>0.0390</td>\n      <td>0.0363</td>\n      <td>0.0367</td>\n      <td>0.0383</td>\n      <td>0.0359</td>\n      <td>0.0366</td>\n      <td>0.03973</td>\n    </tr>\n    <tr>\n      <th>Leo đồi</th>\n      <td>0.0492</td>\n      <td>0.0372</td>\n      <td>0.0355</td>\n      <td>0.0355</td>\n      <td>0.0354</td>\n      <td>0.0350</td>\n      <td>0.0344</td>\n      <td>0.0348</td>\n      <td>0.0360</td>\n      <td>0.0342</td>\n      <td>0.03672</td>\n    </tr>\n    <tr>\n      <th>Beam (4)</th>\n      <td>0.0968</td>\n      <td>0.0817</td>\n      <td>0.0798</td>\n      <td>0.0780</td>\n      <td>0.0799</td>\n      <td>0.0769</td>\n      <td>0.0796</td>\n      <td>0.0785</td>\n      <td>0.0785</td>\n      <td>0.0767</td>\n      <td>0.08064</td>\n    </tr>\n  </tbody>\n</table>\n</div>"
     },
     "metadata": {},
     "output_type": "display_data"
    },
    {
     "name": "stdout",
     "output_type": "stream",
     "text": []
    },
    {
     "data": {
      "text/plain": "                Processed\nBề rộng                52\nChiều sâu              48\nSâu lặp (5-15)         81\nTốt nhất                6\nLeo đồi                 6\nBeam (4)               10",
      "text/html": "<div>\n<style scoped>\n    .dataframe tbody tr th:only-of-type {\n        vertical-align: middle;\n    }\n\n    .dataframe tbody tr th {\n        vertical-align: top;\n    }\n\n    .dataframe thead th {\n        text-align: right;\n    }\n</style>\n<table border=\"1\" class=\"dataframe\">\n  <thead>\n    <tr style=\"text-align: right;\">\n      <th></th>\n      <th>Processed</th>\n    </tr>\n  </thead>\n  <tbody>\n    <tr>\n      <th>Bề rộng</th>\n      <td>52</td>\n    </tr>\n    <tr>\n      <th>Chiều sâu</th>\n      <td>48</td>\n    </tr>\n    <tr>\n      <th>Sâu lặp (5-15)</th>\n      <td>81</td>\n    </tr>\n    <tr>\n      <th>Tốt nhất</th>\n      <td>6</td>\n    </tr>\n    <tr>\n      <th>Leo đồi</th>\n      <td>6</td>\n    </tr>\n    <tr>\n      <th>Beam (4)</th>\n      <td>10</td>\n    </tr>\n  </tbody>\n</table>\n</div>"
     },
     "metadata": {},
     "output_type": "display_data"
    }
   ],
   "source": [
    "result = np.full((6, 11), 0).tolist()\n",
    "count = [i for i in range(6)]\n",
    "path = [i for i in range(6)]\n",
    "for i in range(10):\n",
    "    if i == 0:\n",
    "        path[0], result[0][i], count[0] = BFS.BFS(test_3_5, 1)\n",
    "        path[1], result[1][i], count[1] = DFS.DFS(test_3_5, 1)\n",
    "        path[2], result[2][i], count[2] = Depth_Deepening_Search.Depth_Deepening_Search(test_3_5, 1)\n",
    "        path[3], result[3][i], count[3] = Best_First_Search.Best_First_Search(test_3_5, 1)\n",
    "        path[4], result[4][i], count[4] = Hill_Climbing_Search.Hill_Climbing_Search(test_3_5, 1)\n",
    "        path[5], result[5][i], count[5] = Beam_Search.Beam_Search(test_3_5, 1)\n",
    "    else:\n",
    "        for j in range(6):\n",
    "            if path[j] == \"Unsolvable!\":\n",
    "                result[j][i] = 999999\n",
    "            else:\n",
    "                match j:\n",
    "                    case 0:\n",
    "                        path[0], result[0][i], count[0] = BFS.BFS(test_3_5, 1)\n",
    "                    case 1:\n",
    "                        path[1], result[1][i], count[1] = DFS.DFS(test_3_5, 1)\n",
    "                    case 2:\n",
    "                        path[2], result[2][i], count[2] = Depth_Deepening_Search.Depth_Deepening_Search(test_3_5, 1)\n",
    "                    case 3:\n",
    "                        path[3], result[3][i], count[3] = Best_First_Search.Best_First_Search(test_3_5, 1)\n",
    "                    case 4:\n",
    "                        path[4], result[4][i], count[4] = Hill_Climbing_Search.Hill_Climbing_Search(test_3_5, 1)\n",
    "                    case 5:\n",
    "                        path[5], result[5][i], count[5] = Beam_Search.Beam_Search(test_3_5, 1)\n",
    "for i in range(6):\n",
    "    result[i][10] = np.average(result[i][0:10])\n",
    "for i in range(6):\n",
    "    for j in range(10):\n",
    "        if path[i] == \"Unsolvable!\":\n",
    "            if result[i][j] > 30000:\n",
    "                result[i][j] = \"N/A (Time out)\"\n",
    "                result[i][10] = \"N/A (Time out)\"\n",
    "            else:\n",
    "                result[i][j] = \"N/A (Unsolvable)\"\n",
    "                result[i][10] = \"N/A (Unsolvable)\"\n",
    "result = pd.DataFrame(result,\n",
    "                      index=[\"Bề rộng\", \"Chiều sâu\", \"Sâu lặp (5-15)\", \"Tốt nhất\", \"Leo đồi\", \"Beam (4)\"],\n",
    "                      columns=[i + 1 for i in range(10)] + [\"Trung bình\"])\n",
    "count = pd.DataFrame(count, index=[\"Bề rộng\", \"Chiều sâu\", \"Sâu lặp (5-15)\", \"Tốt nhất\", \"Leo đồi\", \"Beam (4)\"],\n",
    "                     columns=[\"Processed\"])\n",
    "display(result)\n",
    "print()\n",
    "display(count)"
   ],
   "metadata": {
    "collapsed": false,
    "ExecuteTime": {
     "end_time": "2023-08-08T17:02:51.035553800Z",
     "start_time": "2023-08-08T17:02:50.967170400Z"
    }
   },
   "id": "b0418fb59a82569b"
  },
  {
   "cell_type": "markdown",
   "source": [
    "# Result of 3x3 and 10 steps:"
   ],
   "metadata": {
    "collapsed": false
   },
   "id": "bb9e96a37c0759e8"
  },
  {
   "cell_type": "code",
   "execution_count": 6,
   "outputs": [
    {
     "data": {
      "text/plain": "                      1        2        3        4        5        6        7  \\\nBề rộng         10.4940  10.8487  10.5893  11.7951  10.5087  11.5411  11.7711   \nChiều sâu        9.2679   9.0966   9.5892  45.8316   8.6676   9.9396  10.1176   \nSâu lặp (5-15)  19.6656  22.9472  20.9793  19.7612  21.6374  22.7378  22.5365   \nTốt nhất         0.1135   0.1164   0.1219   0.1079   0.1260   0.1432   0.1809   \nLeo đồi          0.1165   0.1184   0.1258   0.1140   0.1274   0.1276   0.1319   \nBeam (4)         0.1664   0.1688   0.1784   0.1649   0.1828   0.1842   0.1855   \n\n                      8        9       10  Trung bình  \nBề rộng         11.8921  11.6692  11.8625    11.29718  \nChiều sâu        9.7286   9.7887  10.0916    13.21190  \nSâu lặp (5-15)  22.4782  22.5604  22.6660    21.79696  \nTốt nhất         0.1163   0.1167   0.1206     0.12634  \nLeo đồi          0.1257   0.1249   0.1257     0.12379  \nBeam (4)         0.1809   0.1810   0.1809     0.17738  ",
      "text/html": "<div>\n<style scoped>\n    .dataframe tbody tr th:only-of-type {\n        vertical-align: middle;\n    }\n\n    .dataframe tbody tr th {\n        vertical-align: top;\n    }\n\n    .dataframe thead th {\n        text-align: right;\n    }\n</style>\n<table border=\"1\" class=\"dataframe\">\n  <thead>\n    <tr style=\"text-align: right;\">\n      <th></th>\n      <th>1</th>\n      <th>2</th>\n      <th>3</th>\n      <th>4</th>\n      <th>5</th>\n      <th>6</th>\n      <th>7</th>\n      <th>8</th>\n      <th>9</th>\n      <th>10</th>\n      <th>Trung bình</th>\n    </tr>\n  </thead>\n  <tbody>\n    <tr>\n      <th>Bề rộng</th>\n      <td>10.4940</td>\n      <td>10.8487</td>\n      <td>10.5893</td>\n      <td>11.7951</td>\n      <td>10.5087</td>\n      <td>11.5411</td>\n      <td>11.7711</td>\n      <td>11.8921</td>\n      <td>11.6692</td>\n      <td>11.8625</td>\n      <td>11.29718</td>\n    </tr>\n    <tr>\n      <th>Chiều sâu</th>\n      <td>9.2679</td>\n      <td>9.0966</td>\n      <td>9.5892</td>\n      <td>45.8316</td>\n      <td>8.6676</td>\n      <td>9.9396</td>\n      <td>10.1176</td>\n      <td>9.7286</td>\n      <td>9.7887</td>\n      <td>10.0916</td>\n      <td>13.21190</td>\n    </tr>\n    <tr>\n      <th>Sâu lặp (5-15)</th>\n      <td>19.6656</td>\n      <td>22.9472</td>\n      <td>20.9793</td>\n      <td>19.7612</td>\n      <td>21.6374</td>\n      <td>22.7378</td>\n      <td>22.5365</td>\n      <td>22.4782</td>\n      <td>22.5604</td>\n      <td>22.6660</td>\n      <td>21.79696</td>\n    </tr>\n    <tr>\n      <th>Tốt nhất</th>\n      <td>0.1135</td>\n      <td>0.1164</td>\n      <td>0.1219</td>\n      <td>0.1079</td>\n      <td>0.1260</td>\n      <td>0.1432</td>\n      <td>0.1809</td>\n      <td>0.1163</td>\n      <td>0.1167</td>\n      <td>0.1206</td>\n      <td>0.12634</td>\n    </tr>\n    <tr>\n      <th>Leo đồi</th>\n      <td>0.1165</td>\n      <td>0.1184</td>\n      <td>0.1258</td>\n      <td>0.1140</td>\n      <td>0.1274</td>\n      <td>0.1276</td>\n      <td>0.1319</td>\n      <td>0.1257</td>\n      <td>0.1249</td>\n      <td>0.1257</td>\n      <td>0.12379</td>\n    </tr>\n    <tr>\n      <th>Beam (4)</th>\n      <td>0.1664</td>\n      <td>0.1688</td>\n      <td>0.1784</td>\n      <td>0.1649</td>\n      <td>0.1828</td>\n      <td>0.1842</td>\n      <td>0.1855</td>\n      <td>0.1809</td>\n      <td>0.1810</td>\n      <td>0.1809</td>\n      <td>0.17738</td>\n    </tr>\n  </tbody>\n</table>\n</div>"
     },
     "metadata": {},
     "output_type": "display_data"
    },
    {
     "name": "stdout",
     "output_type": "stream",
     "text": []
    },
    {
     "data": {
      "text/plain": "                Processed\nBề rộng               805\nChiều sâu             700\nSâu lặp (5-15)       2066\nTốt nhất               15\nLeo đồi                17\nBeam (4)               20",
      "text/html": "<div>\n<style scoped>\n    .dataframe tbody tr th:only-of-type {\n        vertical-align: middle;\n    }\n\n    .dataframe tbody tr th {\n        vertical-align: top;\n    }\n\n    .dataframe thead th {\n        text-align: right;\n    }\n</style>\n<table border=\"1\" class=\"dataframe\">\n  <thead>\n    <tr style=\"text-align: right;\">\n      <th></th>\n      <th>Processed</th>\n    </tr>\n  </thead>\n  <tbody>\n    <tr>\n      <th>Bề rộng</th>\n      <td>805</td>\n    </tr>\n    <tr>\n      <th>Chiều sâu</th>\n      <td>700</td>\n    </tr>\n    <tr>\n      <th>Sâu lặp (5-15)</th>\n      <td>2066</td>\n    </tr>\n    <tr>\n      <th>Tốt nhất</th>\n      <td>15</td>\n    </tr>\n    <tr>\n      <th>Leo đồi</th>\n      <td>17</td>\n    </tr>\n    <tr>\n      <th>Beam (4)</th>\n      <td>20</td>\n    </tr>\n  </tbody>\n</table>\n</div>"
     },
     "metadata": {},
     "output_type": "display_data"
    }
   ],
   "source": [
    "result = np.full((6, 11), 0).tolist()\n",
    "count = [i for i in range(6)]\n",
    "path = [i for i in range(6)]\n",
    "for i in range(10):\n",
    "    if i == 0:\n",
    "        path[0], result[0][i], count[0] = BFS.BFS(test_3_10, 1)\n",
    "        path[1], result[1][i], count[1] = DFS.DFS(test_3_10, 1)\n",
    "        path[2], result[2][i], count[2] = Depth_Deepening_Search.Depth_Deepening_Search(test_3_10, 1)\n",
    "        path[3], result[3][i], count[3] = Best_First_Search.Best_First_Search(test_3_10, 1)\n",
    "        path[4], result[4][i], count[4] = Hill_Climbing_Search.Hill_Climbing_Search(test_3_10, 1)\n",
    "        path[5], result[5][i], count[5] = Beam_Search.Beam_Search(test_3_10, 1)\n",
    "    else:\n",
    "        for j in range(6):\n",
    "            if path[j] == \"Unsolvable!\":\n",
    "                result[j][i] = 999999\n",
    "            else:\n",
    "                match j:\n",
    "                    case 0:\n",
    "                        path[0], result[0][i], count[0] = BFS.BFS(test_3_10, 1)\n",
    "                    case 1:\n",
    "                        path[1], result[1][i], count[1] = DFS.DFS(test_3_10, 1)\n",
    "                    case 2:\n",
    "                        path[2], result[2][i], count[2] = Depth_Deepening_Search.Depth_Deepening_Search(test_3_10, 1)\n",
    "                    case 3:\n",
    "                        path[3], result[3][i], count[3] = Best_First_Search.Best_First_Search(test_3_10, 1)\n",
    "                    case 4:\n",
    "                        path[4], result[4][i], count[4] = Hill_Climbing_Search.Hill_Climbing_Search(test_3_10, 1)\n",
    "                    case 5:\n",
    "                        path[5], result[5][i], count[5] = Beam_Search.Beam_Search(test_3_10, 1)\n",
    "for i in range(6):\n",
    "    result[i][10] = np.average(result[i][0:10])\n",
    "for i in range(6):\n",
    "    for j in range(10):\n",
    "        if path[i] == \"Unsolvable!\":\n",
    "            if result[i][j] > 30000:\n",
    "                result[i][j] = \"N/A (Time out)\"\n",
    "                result[i][10] = \"N/A (Time out)\"\n",
    "            else:\n",
    "                result[i][j] = \"N/A (Unsolvable)\"\n",
    "                result[i][10] = \"N/A (Unsolvable)\"\n",
    "result = pd.DataFrame(result,\n",
    "                      index=[\"Bề rộng\", \"Chiều sâu\", \"Sâu lặp (5-15)\", \"Tốt nhất\", \"Leo đồi\", \"Beam (4)\"],\n",
    "                      columns=[i + 1 for i in range(10)] + [\"Trung bình\"])\n",
    "count = pd.DataFrame(count, index=[\"Bề rộng\", \"Chiều sâu\", \"Sâu lặp (5-15)\", \"Tốt nhất\", \"Leo đồi\", \"Beam (4)\"],\n",
    "                     columns=[\"Processed\"])\n",
    "display(result)\n",
    "print()\n",
    "display(count)"
   ],
   "metadata": {
    "collapsed": false,
    "ExecuteTime": {
     "end_time": "2023-08-08T17:02:51.521705700Z",
     "start_time": "2023-08-08T17:02:50.999145400Z"
    }
   },
   "id": "e759d844ada3d544"
  },
  {
   "cell_type": "markdown",
   "source": [
    "# Result of 3x3 and 15 steps:"
   ],
   "metadata": {
    "collapsed": false
   },
   "id": "8c2124c6b3edb252"
  },
  {
   "cell_type": "code",
   "execution_count": 7,
   "outputs": [
    {
     "data": {
      "text/plain": "                        1          2          3          4          5  \\\nBề rộng          893.5738   678.7298   681.2993   662.5909   664.3008   \nChiều sâu       1044.8784  1042.2751  1045.0804  1096.7137  1060.7536   \nSâu lặp (5-15)  2048.3111  2065.0513  2080.4180  2015.1526  2041.7260   \nTốt nhất           0.1489     0.1452     0.1603     0.1416     0.1415   \nLeo đồi            0.7320     0.7322     0.7269     0.6915     0.7283   \nBeam (4)           0.2747     0.2761     0.2710     0.2568     0.2680   \n\n                        6          7          8          9         10  \\\nBề rộng          706.3247   695.4778   681.6680   678.0766   627.4393   \nChiều sâu       1032.2606  1027.5949  1038.7369  1036.7500   976.4205   \nSâu lặp (5-15)  2042.5878  2062.3557  2067.4620  1877.2384  2054.0333   \nTốt nhất           0.1424     0.1391     0.1435     0.1343     0.1452   \nLeo đồi            0.7231     0.7206     0.7319     0.6683     0.7230   \nBeam (4)           0.2666     0.2895     0.2671     0.2512     0.2692   \n\n                Trung bình  \nBề rộng          696.94810  \nChiều sâu       1040.14641  \nSâu lặp (5-15)  2035.43362  \nTốt nhất           0.14420  \nLeo đồi            0.71778  \nBeam (4)           0.26902  ",
      "text/html": "<div>\n<style scoped>\n    .dataframe tbody tr th:only-of-type {\n        vertical-align: middle;\n    }\n\n    .dataframe tbody tr th {\n        vertical-align: top;\n    }\n\n    .dataframe thead th {\n        text-align: right;\n    }\n</style>\n<table border=\"1\" class=\"dataframe\">\n  <thead>\n    <tr style=\"text-align: right;\">\n      <th></th>\n      <th>1</th>\n      <th>2</th>\n      <th>3</th>\n      <th>4</th>\n      <th>5</th>\n      <th>6</th>\n      <th>7</th>\n      <th>8</th>\n      <th>9</th>\n      <th>10</th>\n      <th>Trung bình</th>\n    </tr>\n  </thead>\n  <tbody>\n    <tr>\n      <th>Bề rộng</th>\n      <td>893.5738</td>\n      <td>678.7298</td>\n      <td>681.2993</td>\n      <td>662.5909</td>\n      <td>664.3008</td>\n      <td>706.3247</td>\n      <td>695.4778</td>\n      <td>681.6680</td>\n      <td>678.0766</td>\n      <td>627.4393</td>\n      <td>696.94810</td>\n    </tr>\n    <tr>\n      <th>Chiều sâu</th>\n      <td>1044.8784</td>\n      <td>1042.2751</td>\n      <td>1045.0804</td>\n      <td>1096.7137</td>\n      <td>1060.7536</td>\n      <td>1032.2606</td>\n      <td>1027.5949</td>\n      <td>1038.7369</td>\n      <td>1036.7500</td>\n      <td>976.4205</td>\n      <td>1040.14641</td>\n    </tr>\n    <tr>\n      <th>Sâu lặp (5-15)</th>\n      <td>2048.3111</td>\n      <td>2065.0513</td>\n      <td>2080.4180</td>\n      <td>2015.1526</td>\n      <td>2041.7260</td>\n      <td>2042.5878</td>\n      <td>2062.3557</td>\n      <td>2067.4620</td>\n      <td>1877.2384</td>\n      <td>2054.0333</td>\n      <td>2035.43362</td>\n    </tr>\n    <tr>\n      <th>Tốt nhất</th>\n      <td>0.1489</td>\n      <td>0.1452</td>\n      <td>0.1603</td>\n      <td>0.1416</td>\n      <td>0.1415</td>\n      <td>0.1424</td>\n      <td>0.1391</td>\n      <td>0.1435</td>\n      <td>0.1343</td>\n      <td>0.1452</td>\n      <td>0.14420</td>\n    </tr>\n    <tr>\n      <th>Leo đồi</th>\n      <td>0.7320</td>\n      <td>0.7322</td>\n      <td>0.7269</td>\n      <td>0.6915</td>\n      <td>0.7283</td>\n      <td>0.7231</td>\n      <td>0.7206</td>\n      <td>0.7319</td>\n      <td>0.6683</td>\n      <td>0.7230</td>\n      <td>0.71778</td>\n    </tr>\n    <tr>\n      <th>Beam (4)</th>\n      <td>0.2747</td>\n      <td>0.2761</td>\n      <td>0.2710</td>\n      <td>0.2568</td>\n      <td>0.2680</td>\n      <td>0.2666</td>\n      <td>0.2895</td>\n      <td>0.2671</td>\n      <td>0.2512</td>\n      <td>0.2692</td>\n      <td>0.26902</td>\n    </tr>\n  </tbody>\n</table>\n</div>"
     },
     "metadata": {},
     "output_type": "display_data"
    },
    {
     "name": "stdout",
     "output_type": "stream",
     "text": []
    },
    {
     "data": {
      "text/plain": "                Processed\nBề rộng              6523\nChiều sâu            7908\nSâu lặp (5-15)      23629\nTốt nhất               17\nLeo đồi                93\nBeam (4)               30",
      "text/html": "<div>\n<style scoped>\n    .dataframe tbody tr th:only-of-type {\n        vertical-align: middle;\n    }\n\n    .dataframe tbody tr th {\n        vertical-align: top;\n    }\n\n    .dataframe thead th {\n        text-align: right;\n    }\n</style>\n<table border=\"1\" class=\"dataframe\">\n  <thead>\n    <tr style=\"text-align: right;\">\n      <th></th>\n      <th>Processed</th>\n    </tr>\n  </thead>\n  <tbody>\n    <tr>\n      <th>Bề rộng</th>\n      <td>6523</td>\n    </tr>\n    <tr>\n      <th>Chiều sâu</th>\n      <td>7908</td>\n    </tr>\n    <tr>\n      <th>Sâu lặp (5-15)</th>\n      <td>23629</td>\n    </tr>\n    <tr>\n      <th>Tốt nhất</th>\n      <td>17</td>\n    </tr>\n    <tr>\n      <th>Leo đồi</th>\n      <td>93</td>\n    </tr>\n    <tr>\n      <th>Beam (4)</th>\n      <td>30</td>\n    </tr>\n  </tbody>\n</table>\n</div>"
     },
     "metadata": {},
     "output_type": "display_data"
    }
   ],
   "source": [
    "result = np.full((6, 11), 0).tolist()\n",
    "count = [i for i in range(6)]\n",
    "path = [i for i in range(6)]\n",
    "for i in range(10):\n",
    "    if i == 0:\n",
    "        path[0], result[0][i], count[0] = BFS.BFS(test_3_15, 1)\n",
    "        path[1], result[1][i], count[1] = DFS.DFS(test_3_15, 1)\n",
    "        path[2], result[2][i], count[2] = Depth_Deepening_Search.Depth_Deepening_Search(test_3_15, 1)\n",
    "        path[3], result[3][i], count[3] = Best_First_Search.Best_First_Search(test_3_15, 1)\n",
    "        path[4], result[4][i], count[4] = Hill_Climbing_Search.Hill_Climbing_Search(test_3_15, 1)\n",
    "        path[5], result[5][i], count[5] = Beam_Search.Beam_Search(test_3_15, 1)\n",
    "    else:\n",
    "        for j in range(6):\n",
    "            if path[j] == \"Unsolvable!\":\n",
    "                result[j][i] = 999999\n",
    "            else:\n",
    "                match j:\n",
    "                    case 0:\n",
    "                        path[0], result[0][i], count[0] = BFS.BFS(test_3_15, 1)\n",
    "                    case 1:\n",
    "                        path[1], result[1][i], count[1] = DFS.DFS(test_3_15, 1)\n",
    "                    case 2:\n",
    "                        path[2], result[2][i], count[2] = Depth_Deepening_Search.Depth_Deepening_Search(test_3_15, 1)\n",
    "                    case 3:\n",
    "                        path[3], result[3][i], count[3] = Best_First_Search.Best_First_Search(test_3_15, 1)\n",
    "                    case 4:\n",
    "                        path[4], result[4][i], count[4] = Hill_Climbing_Search.Hill_Climbing_Search(test_3_15, 1)\n",
    "                    case 5:\n",
    "                        path[5], result[5][i], count[5] = Beam_Search.Beam_Search(test_3_15, 1)\n",
    "for i in range(6):\n",
    "    result[i][10] = np.average(result[i][0:10])\n",
    "for i in range(6):\n",
    "    for j in range(10):\n",
    "        if path[i] == \"Unsolvable!\":\n",
    "            if result[i][j] > 30000:\n",
    "                result[i][j] = \"N/A (Time out)\"\n",
    "                result[i][10] = \"N/A (Time out)\"\n",
    "            else:\n",
    "                result[i][j] = \"N/A (Unsolvable)\"\n",
    "                result[i][10] = \"N/A (Unsolvable)\"\n",
    "result = pd.DataFrame(result,\n",
    "                      index=[\"Bề rộng\", \"Chiều sâu\", \"Sâu lặp (5-15)\", \"Tốt nhất\", \"Leo đồi\", \"Beam (4)\"],\n",
    "                      columns=[i + 1 for i in range(10)] + [\"Trung bình\"])\n",
    "count = pd.DataFrame(count, index=[\"Bề rộng\", \"Chiều sâu\", \"Sâu lặp (5-15)\", \"Tốt nhất\", \"Leo đồi\", \"Beam (4)\"],\n",
    "                     columns=[\"Processed\"])\n",
    "display(result)\n",
    "print()\n",
    "display(count)"
   ],
   "metadata": {
    "collapsed": false,
    "ExecuteTime": {
     "end_time": "2023-08-08T17:03:29.250157500Z",
     "start_time": "2023-08-08T17:02:51.571061800Z"
    }
   },
   "id": "a957d9a9f181b167"
  },
  {
   "cell_type": "markdown",
   "source": [
    "# Result of 4x4 and 5 steps:"
   ],
   "metadata": {
    "collapsed": false
   },
   "id": "26f7aee1aa1859f0"
  },
  {
   "cell_type": "code",
   "execution_count": 8,
   "outputs": [
    {
     "data": {
      "text/plain": "                     1       2       3       4       5       6       7  \\\nBề rộng         0.2791  0.2414  0.2370  0.2295  0.2281  0.2215  0.2205   \nChiều sâu       0.3831  0.3551  0.3529  0.3415  0.3916  0.3385  0.3297   \nSâu lặp (5-15)  0.6128  0.6188  0.5747  0.5538  0.5681  0.5482  0.5839   \nTốt nhất        0.0588  0.0549  0.0479  0.0462  0.0495  0.0462  0.0456   \nLeo đồi         0.0519  0.0488  0.0466  0.0449  0.0447  0.0441  0.0441   \nBeam (4)        0.1020  0.0984  0.0933  0.0890  0.0890  0.0897  0.0887   \n\n                     8       9      10  Trung bình  \nBề rộng         0.2201  0.2193  0.2429     0.23394  \nChiều sâu       0.3288  0.3319  0.3307     0.34838  \nSâu lặp (5-15)  0.5502  0.5545  0.5514     0.57164  \nTốt nhất        0.0447  0.0445  0.0451     0.04834  \nLeo đồi         0.0426  0.0426  0.0427     0.04530  \nBeam (4)        0.0882  0.0900  0.0879     0.09162  ",
      "text/html": "<div>\n<style scoped>\n    .dataframe tbody tr th:only-of-type {\n        vertical-align: middle;\n    }\n\n    .dataframe tbody tr th {\n        vertical-align: top;\n    }\n\n    .dataframe thead th {\n        text-align: right;\n    }\n</style>\n<table border=\"1\" class=\"dataframe\">\n  <thead>\n    <tr style=\"text-align: right;\">\n      <th></th>\n      <th>1</th>\n      <th>2</th>\n      <th>3</th>\n      <th>4</th>\n      <th>5</th>\n      <th>6</th>\n      <th>7</th>\n      <th>8</th>\n      <th>9</th>\n      <th>10</th>\n      <th>Trung bình</th>\n    </tr>\n  </thead>\n  <tbody>\n    <tr>\n      <th>Bề rộng</th>\n      <td>0.2791</td>\n      <td>0.2414</td>\n      <td>0.2370</td>\n      <td>0.2295</td>\n      <td>0.2281</td>\n      <td>0.2215</td>\n      <td>0.2205</td>\n      <td>0.2201</td>\n      <td>0.2193</td>\n      <td>0.2429</td>\n      <td>0.23394</td>\n    </tr>\n    <tr>\n      <th>Chiều sâu</th>\n      <td>0.3831</td>\n      <td>0.3551</td>\n      <td>0.3529</td>\n      <td>0.3415</td>\n      <td>0.3916</td>\n      <td>0.3385</td>\n      <td>0.3297</td>\n      <td>0.3288</td>\n      <td>0.3319</td>\n      <td>0.3307</td>\n      <td>0.34838</td>\n    </tr>\n    <tr>\n      <th>Sâu lặp (5-15)</th>\n      <td>0.6128</td>\n      <td>0.6188</td>\n      <td>0.5747</td>\n      <td>0.5538</td>\n      <td>0.5681</td>\n      <td>0.5482</td>\n      <td>0.5839</td>\n      <td>0.5502</td>\n      <td>0.5545</td>\n      <td>0.5514</td>\n      <td>0.57164</td>\n    </tr>\n    <tr>\n      <th>Tốt nhất</th>\n      <td>0.0588</td>\n      <td>0.0549</td>\n      <td>0.0479</td>\n      <td>0.0462</td>\n      <td>0.0495</td>\n      <td>0.0462</td>\n      <td>0.0456</td>\n      <td>0.0447</td>\n      <td>0.0445</td>\n      <td>0.0451</td>\n      <td>0.04834</td>\n    </tr>\n    <tr>\n      <th>Leo đồi</th>\n      <td>0.0519</td>\n      <td>0.0488</td>\n      <td>0.0466</td>\n      <td>0.0449</td>\n      <td>0.0447</td>\n      <td>0.0441</td>\n      <td>0.0441</td>\n      <td>0.0426</td>\n      <td>0.0426</td>\n      <td>0.0427</td>\n      <td>0.04530</td>\n    </tr>\n    <tr>\n      <th>Beam (4)</th>\n      <td>0.1020</td>\n      <td>0.0984</td>\n      <td>0.0933</td>\n      <td>0.0890</td>\n      <td>0.0890</td>\n      <td>0.0897</td>\n      <td>0.0887</td>\n      <td>0.0882</td>\n      <td>0.0900</td>\n      <td>0.0879</td>\n      <td>0.09162</td>\n    </tr>\n  </tbody>\n</table>\n</div>"
     },
     "metadata": {},
     "output_type": "display_data"
    },
    {
     "name": "stdout",
     "output_type": "stream",
     "text": []
    },
    {
     "data": {
      "text/plain": "                Processed\nBề rộng                64\nChiều sâu              88\nSâu lặp (5-15)        144\nTốt nhất                6\nLeo đồi                 6\nBeam (4)               10",
      "text/html": "<div>\n<style scoped>\n    .dataframe tbody tr th:only-of-type {\n        vertical-align: middle;\n    }\n\n    .dataframe tbody tr th {\n        vertical-align: top;\n    }\n\n    .dataframe thead th {\n        text-align: right;\n    }\n</style>\n<table border=\"1\" class=\"dataframe\">\n  <thead>\n    <tr style=\"text-align: right;\">\n      <th></th>\n      <th>Processed</th>\n    </tr>\n  </thead>\n  <tbody>\n    <tr>\n      <th>Bề rộng</th>\n      <td>64</td>\n    </tr>\n    <tr>\n      <th>Chiều sâu</th>\n      <td>88</td>\n    </tr>\n    <tr>\n      <th>Sâu lặp (5-15)</th>\n      <td>144</td>\n    </tr>\n    <tr>\n      <th>Tốt nhất</th>\n      <td>6</td>\n    </tr>\n    <tr>\n      <th>Leo đồi</th>\n      <td>6</td>\n    </tr>\n    <tr>\n      <th>Beam (4)</th>\n      <td>10</td>\n    </tr>\n  </tbody>\n</table>\n</div>"
     },
     "metadata": {},
     "output_type": "display_data"
    }
   ],
   "source": [
    "result = np.full((6, 11), 0).tolist()\n",
    "count = [i for i in range(6)]\n",
    "path = [i for i in range(6)]\n",
    "for i in range(10):\n",
    "    if i == 0:\n",
    "        path[0], result[0][i], count[0] = BFS.BFS(test_4_5, 1)\n",
    "        path[1], result[1][i], count[1] = DFS.DFS(test_4_5, 1)\n",
    "        path[2], result[2][i], count[2] = Depth_Deepening_Search.Depth_Deepening_Search(test_4_5, 1)\n",
    "        path[3], result[3][i], count[3] = Best_First_Search.Best_First_Search(test_4_5, 1)\n",
    "        path[4], result[4][i], count[4] = Hill_Climbing_Search.Hill_Climbing_Search(test_4_5, 1)\n",
    "        path[5], result[5][i], count[5] = Beam_Search.Beam_Search(test_4_5, 1)\n",
    "    else:\n",
    "        for j in range(6):\n",
    "            if path[j] == \"Unsolvable!\":\n",
    "                result[j][i] = 999999\n",
    "            else:\n",
    "                match j:\n",
    "                    case 0:\n",
    "                        path[0], result[0][i], count[0] = BFS.BFS(test_4_5, 1)\n",
    "                    case 1:\n",
    "                        path[1], result[1][i], count[1] = DFS.DFS(test_4_5, 1)\n",
    "                    case 2:\n",
    "                        path[2], result[2][i], count[2] = Depth_Deepening_Search.Depth_Deepening_Search(test_4_5, 1)\n",
    "                    case 3:\n",
    "                        path[3], result[3][i], count[3] = Best_First_Search.Best_First_Search(test_4_5, 1)\n",
    "                    case 4:\n",
    "                        path[4], result[4][i], count[4] = Hill_Climbing_Search.Hill_Climbing_Search(test_4_5, 1)\n",
    "                    case 5:\n",
    "                        path[5], result[5][i], count[5] = Beam_Search.Beam_Search(test_4_5, 1)\n",
    "for i in range(6):\n",
    "    result[i][10] = np.average(result[i][0:10])\n",
    "for i in range(6):\n",
    "    for j in range(10):\n",
    "        if path[i] == \"Unsolvable!\":\n",
    "            if result[i][j] > 30000:\n",
    "                result[i][j] = \"N/A (Time out)\"\n",
    "                result[i][10] = \"N/A (Time out)\"\n",
    "            else:\n",
    "                result[i][j] = \"N/A (Unsolvable)\"\n",
    "                result[i][10] = \"N/A (Unsolvable)\"\n",
    "result = pd.DataFrame(result,\n",
    "                      index=[\"Bề rộng\", \"Chiều sâu\", \"Sâu lặp (5-15)\", \"Tốt nhất\", \"Leo đồi\", \"Beam (4)\"],\n",
    "                      columns=[i + 1 for i in range(10)] + [\"Trung bình\"])\n",
    "count = pd.DataFrame(count, index=[\"Bề rộng\", \"Chiều sâu\", \"Sâu lặp (5-15)\", \"Tốt nhất\", \"Leo đồi\", \"Beam (4)\"],\n",
    "                     columns=[\"Processed\"])\n",
    "display(result)\n",
    "print()\n",
    "display(count)"
   ],
   "metadata": {
    "collapsed": false,
    "ExecuteTime": {
     "end_time": "2023-08-08T17:03:29.295923500Z",
     "start_time": "2023-08-08T17:03:29.275075700Z"
    }
   },
   "id": "30267df716b4470c"
  },
  {
   "cell_type": "markdown",
   "source": [
    "# Result of 4x4 and 10 steps:"
   ],
   "metadata": {
    "collapsed": false
   },
   "id": "2e4fc1494160d309"
  },
  {
   "cell_type": "code",
   "execution_count": 9,
   "outputs": [
    {
     "data": {
      "text/plain": "                       1         2         3         4         5         6  \\\nBề rộng         521.8958  458.4241  467.8317  442.5632  434.7105  465.7970   \nChiều sâu       265.5314  128.6055  135.4269  124.0899  125.4786  132.5567   \nSâu lặp (5-15)  276.0902  286.5520  318.7129  269.1091  295.7028  284.3318   \nTốt nhất          0.1053    0.1107    0.1087    0.1009    0.0921    0.1003   \nLeo đồi           0.0905    0.0955    0.0929    0.0865    0.0807    0.0875   \nBeam (4)          0.2307    0.2420    0.2342    0.2153    0.2016    0.2230   \n\n                       7         8         9        10  Trung bình  \nBề rộng         458.5141  434.8940  431.7241  452.2876   456.86421  \nChiều sâu       134.2337  125.0693  125.9148  137.4960   143.44028  \nSâu lặp (5-15)  289.9109  277.8064  293.4835  292.3774   288.40770  \nTốt nhất          0.0980    0.0959    0.0970    0.1016     0.10105  \nLeo đồi           0.0848    0.0819    0.0834    0.0913     0.08750  \nBeam (4)          0.2207    0.2110    0.2213    0.2360     0.22358  ",
      "text/html": "<div>\n<style scoped>\n    .dataframe tbody tr th:only-of-type {\n        vertical-align: middle;\n    }\n\n    .dataframe tbody tr th {\n        vertical-align: top;\n    }\n\n    .dataframe thead th {\n        text-align: right;\n    }\n</style>\n<table border=\"1\" class=\"dataframe\">\n  <thead>\n    <tr style=\"text-align: right;\">\n      <th></th>\n      <th>1</th>\n      <th>2</th>\n      <th>3</th>\n      <th>4</th>\n      <th>5</th>\n      <th>6</th>\n      <th>7</th>\n      <th>8</th>\n      <th>9</th>\n      <th>10</th>\n      <th>Trung bình</th>\n    </tr>\n  </thead>\n  <tbody>\n    <tr>\n      <th>Bề rộng</th>\n      <td>521.8958</td>\n      <td>458.4241</td>\n      <td>467.8317</td>\n      <td>442.5632</td>\n      <td>434.7105</td>\n      <td>465.7970</td>\n      <td>458.5141</td>\n      <td>434.8940</td>\n      <td>431.7241</td>\n      <td>452.2876</td>\n      <td>456.86421</td>\n    </tr>\n    <tr>\n      <th>Chiều sâu</th>\n      <td>265.5314</td>\n      <td>128.6055</td>\n      <td>135.4269</td>\n      <td>124.0899</td>\n      <td>125.4786</td>\n      <td>132.5567</td>\n      <td>134.2337</td>\n      <td>125.0693</td>\n      <td>125.9148</td>\n      <td>137.4960</td>\n      <td>143.44028</td>\n    </tr>\n    <tr>\n      <th>Sâu lặp (5-15)</th>\n      <td>276.0902</td>\n      <td>286.5520</td>\n      <td>318.7129</td>\n      <td>269.1091</td>\n      <td>295.7028</td>\n      <td>284.3318</td>\n      <td>289.9109</td>\n      <td>277.8064</td>\n      <td>293.4835</td>\n      <td>292.3774</td>\n      <td>288.40770</td>\n    </tr>\n    <tr>\n      <th>Tốt nhất</th>\n      <td>0.1053</td>\n      <td>0.1107</td>\n      <td>0.1087</td>\n      <td>0.1009</td>\n      <td>0.0921</td>\n      <td>0.1003</td>\n      <td>0.0980</td>\n      <td>0.0959</td>\n      <td>0.0970</td>\n      <td>0.1016</td>\n      <td>0.10105</td>\n    </tr>\n    <tr>\n      <th>Leo đồi</th>\n      <td>0.0905</td>\n      <td>0.0955</td>\n      <td>0.0929</td>\n      <td>0.0865</td>\n      <td>0.0807</td>\n      <td>0.0875</td>\n      <td>0.0848</td>\n      <td>0.0819</td>\n      <td>0.0834</td>\n      <td>0.0913</td>\n      <td>0.08750</td>\n    </tr>\n    <tr>\n      <th>Beam (4)</th>\n      <td>0.2307</td>\n      <td>0.2420</td>\n      <td>0.2342</td>\n      <td>0.2153</td>\n      <td>0.2016</td>\n      <td>0.2230</td>\n      <td>0.2207</td>\n      <td>0.2110</td>\n      <td>0.2213</td>\n      <td>0.2360</td>\n      <td>0.22358</td>\n    </tr>\n  </tbody>\n</table>\n</div>"
     },
     "metadata": {},
     "output_type": "display_data"
    },
    {
     "name": "stdout",
     "output_type": "stream",
     "text": []
    },
    {
     "data": {
      "text/plain": "                Processed\nBề rộng              5056\nChiều sâu            2621\nSâu lặp (5-15)       7184\nTốt nhất               11\nLeo đồi                11\nBeam (4)               20",
      "text/html": "<div>\n<style scoped>\n    .dataframe tbody tr th:only-of-type {\n        vertical-align: middle;\n    }\n\n    .dataframe tbody tr th {\n        vertical-align: top;\n    }\n\n    .dataframe thead th {\n        text-align: right;\n    }\n</style>\n<table border=\"1\" class=\"dataframe\">\n  <thead>\n    <tr style=\"text-align: right;\">\n      <th></th>\n      <th>Processed</th>\n    </tr>\n  </thead>\n  <tbody>\n    <tr>\n      <th>Bề rộng</th>\n      <td>5056</td>\n    </tr>\n    <tr>\n      <th>Chiều sâu</th>\n      <td>2621</td>\n    </tr>\n    <tr>\n      <th>Sâu lặp (5-15)</th>\n      <td>7184</td>\n    </tr>\n    <tr>\n      <th>Tốt nhất</th>\n      <td>11</td>\n    </tr>\n    <tr>\n      <th>Leo đồi</th>\n      <td>11</td>\n    </tr>\n    <tr>\n      <th>Beam (4)</th>\n      <td>20</td>\n    </tr>\n  </tbody>\n</table>\n</div>"
     },
     "metadata": {},
     "output_type": "display_data"
    }
   ],
   "source": [
    "result = np.full((6, 11), 0).tolist()\n",
    "count = [i for i in range(6)]\n",
    "path = [i for i in range(6)]\n",
    "for i in range(10):\n",
    "    if i == 0:\n",
    "        path[0], result[0][i], count[0] = BFS.BFS(test_4_10, 1)\n",
    "        path[1], result[1][i], count[1] = DFS.DFS(test_4_10, 1)\n",
    "        path[2], result[2][i], count[2] = Depth_Deepening_Search.Depth_Deepening_Search(test_4_10, 1)\n",
    "        path[3], result[3][i], count[3] = Best_First_Search.Best_First_Search(test_4_10, 1)\n",
    "        path[4], result[4][i], count[4] = Hill_Climbing_Search.Hill_Climbing_Search(test_4_10, 1)\n",
    "        path[5], result[5][i], count[5] = Beam_Search.Beam_Search(test_4_10, 1)\n",
    "    else:\n",
    "        for j in range(6):\n",
    "            if path[j] == \"Unsolvable!\":\n",
    "                result[j][i] = 999999\n",
    "            else:\n",
    "                match j:\n",
    "                    case 0:\n",
    "                        path[0], result[0][i], count[0] = BFS.BFS(test_4_10, 1)\n",
    "                    case 1:\n",
    "                        path[1], result[1][i], count[1] = DFS.DFS(test_4_10, 1)\n",
    "                    case 2:\n",
    "                        path[2], result[2][i], count[2] = Depth_Deepening_Search.Depth_Deepening_Search(test_4_10, 1)\n",
    "                    case 3:\n",
    "                        path[3], result[3][i], count[3] = Best_First_Search.Best_First_Search(test_4_10, 1)\n",
    "                    case 4:\n",
    "                        path[4], result[4][i], count[4] = Hill_Climbing_Search.Hill_Climbing_Search(test_4_10, 1)\n",
    "                    case 5:\n",
    "                        path[5], result[5][i], count[5] = Beam_Search.Beam_Search(test_4_10, 1)\n",
    "for i in range(6):\n",
    "    result[i][10] = np.average(result[i][0:10])\n",
    "for i in range(6):\n",
    "    for j in range(10):\n",
    "        if path[i] == \"Unsolvable!\":\n",
    "            if result[i][j] > 30000:\n",
    "                result[i][j] = \"N/A (Time out)\"\n",
    "                result[i][10] = \"N/A (Time out)\"\n",
    "            else:\n",
    "                result[i][j] = \"N/A (Unsolvable)\"\n",
    "                result[i][10] = \"N/A (Unsolvable)\"\n",
    "result = pd.DataFrame(result,\n",
    "                      index=[\"Bề rộng\", \"Chiều sâu\", \"Sâu lặp (5-15)\", \"Tốt nhất\", \"Leo đồi\", \"Beam (4)\"],\n",
    "                      columns=[i + 1 for i in range(10)] + [\"Trung bình\"])\n",
    "count = pd.DataFrame(count, index=[\"Bề rộng\", \"Chiều sâu\", \"Sâu lặp (5-15)\", \"Tốt nhất\", \"Leo đồi\", \"Beam (4)\"],\n",
    "                     columns=[\"Processed\"])\n",
    "display(result)\n",
    "print()\n",
    "display(count)"
   ],
   "metadata": {
    "collapsed": false,
    "ExecuteTime": {
     "end_time": "2023-08-08T17:03:38.206764600Z",
     "start_time": "2023-08-08T17:03:29.285955400Z"
    }
   },
   "id": "440dc0475d3151bf"
  },
  {
   "cell_type": "markdown",
   "source": [
    "# Result of 4x4 and 15 steps:"
   ],
   "metadata": {
    "collapsed": false
   },
   "id": "4d5af32c126a72d4"
  },
  {
   "cell_type": "code",
   "execution_count": 10,
   "outputs": [
    {
     "data": {
      "text/plain": "                             1               2               3  \\\nBề rộng         N/A (Time out)  N/A (Time out)  N/A (Time out)   \nChiều sâu       N/A (Time out)  N/A (Time out)  N/A (Time out)   \nSâu lặp (5-15)  N/A (Time out)  N/A (Time out)  N/A (Time out)   \nTốt nhất                0.1601          0.1351           0.132   \nLeo đồi                 0.1372           0.134          0.1309   \nBeam (4)                0.3558          0.3429          0.3405   \n\n                             4               5               6  \\\nBề rộng         N/A (Time out)  N/A (Time out)  N/A (Time out)   \nChiều sâu       N/A (Time out)  N/A (Time out)  N/A (Time out)   \nSâu lặp (5-15)  N/A (Time out)  N/A (Time out)  N/A (Time out)   \nTốt nhất                0.1299          0.1295          0.1287   \nLeo đồi                 0.1288           0.129          0.1334   \nBeam (4)                0.3416          0.3402           0.354   \n\n                             7               8               9  \\\nBề rộng         N/A (Time out)  N/A (Time out)  N/A (Time out)   \nChiều sâu       N/A (Time out)  N/A (Time out)  N/A (Time out)   \nSâu lặp (5-15)  N/A (Time out)  N/A (Time out)  N/A (Time out)   \nTốt nhất                 0.134          0.1348          0.1311   \nLeo đồi                 0.1343          0.1331          0.1308   \nBeam (4)                0.3539          0.3453          0.3446   \n\n                            10      Trung bình  \nBề rộng         N/A (Time out)  N/A (Time out)  \nChiều sâu       N/A (Time out)  N/A (Time out)  \nSâu lặp (5-15)  N/A (Time out)  N/A (Time out)  \nTốt nhất                0.1314         0.13466  \nLeo đồi                 0.1301         0.13216  \nBeam (4)                0.3459         0.34647  ",
      "text/html": "<div>\n<style scoped>\n    .dataframe tbody tr th:only-of-type {\n        vertical-align: middle;\n    }\n\n    .dataframe tbody tr th {\n        vertical-align: top;\n    }\n\n    .dataframe thead th {\n        text-align: right;\n    }\n</style>\n<table border=\"1\" class=\"dataframe\">\n  <thead>\n    <tr style=\"text-align: right;\">\n      <th></th>\n      <th>1</th>\n      <th>2</th>\n      <th>3</th>\n      <th>4</th>\n      <th>5</th>\n      <th>6</th>\n      <th>7</th>\n      <th>8</th>\n      <th>9</th>\n      <th>10</th>\n      <th>Trung bình</th>\n    </tr>\n  </thead>\n  <tbody>\n    <tr>\n      <th>Bề rộng</th>\n      <td>N/A (Time out)</td>\n      <td>N/A (Time out)</td>\n      <td>N/A (Time out)</td>\n      <td>N/A (Time out)</td>\n      <td>N/A (Time out)</td>\n      <td>N/A (Time out)</td>\n      <td>N/A (Time out)</td>\n      <td>N/A (Time out)</td>\n      <td>N/A (Time out)</td>\n      <td>N/A (Time out)</td>\n      <td>N/A (Time out)</td>\n    </tr>\n    <tr>\n      <th>Chiều sâu</th>\n      <td>N/A (Time out)</td>\n      <td>N/A (Time out)</td>\n      <td>N/A (Time out)</td>\n      <td>N/A (Time out)</td>\n      <td>N/A (Time out)</td>\n      <td>N/A (Time out)</td>\n      <td>N/A (Time out)</td>\n      <td>N/A (Time out)</td>\n      <td>N/A (Time out)</td>\n      <td>N/A (Time out)</td>\n      <td>N/A (Time out)</td>\n    </tr>\n    <tr>\n      <th>Sâu lặp (5-15)</th>\n      <td>N/A (Time out)</td>\n      <td>N/A (Time out)</td>\n      <td>N/A (Time out)</td>\n      <td>N/A (Time out)</td>\n      <td>N/A (Time out)</td>\n      <td>N/A (Time out)</td>\n      <td>N/A (Time out)</td>\n      <td>N/A (Time out)</td>\n      <td>N/A (Time out)</td>\n      <td>N/A (Time out)</td>\n      <td>N/A (Time out)</td>\n    </tr>\n    <tr>\n      <th>Tốt nhất</th>\n      <td>0.1601</td>\n      <td>0.1351</td>\n      <td>0.132</td>\n      <td>0.1299</td>\n      <td>0.1295</td>\n      <td>0.1287</td>\n      <td>0.134</td>\n      <td>0.1348</td>\n      <td>0.1311</td>\n      <td>0.1314</td>\n      <td>0.13466</td>\n    </tr>\n    <tr>\n      <th>Leo đồi</th>\n      <td>0.1372</td>\n      <td>0.134</td>\n      <td>0.1309</td>\n      <td>0.1288</td>\n      <td>0.129</td>\n      <td>0.1334</td>\n      <td>0.1343</td>\n      <td>0.1331</td>\n      <td>0.1308</td>\n      <td>0.1301</td>\n      <td>0.13216</td>\n    </tr>\n    <tr>\n      <th>Beam (4)</th>\n      <td>0.3558</td>\n      <td>0.3429</td>\n      <td>0.3405</td>\n      <td>0.3416</td>\n      <td>0.3402</td>\n      <td>0.354</td>\n      <td>0.3539</td>\n      <td>0.3453</td>\n      <td>0.3446</td>\n      <td>0.3459</td>\n      <td>0.34647</td>\n    </tr>\n  </tbody>\n</table>\n</div>"
     },
     "metadata": {},
     "output_type": "display_data"
    },
    {
     "name": "stdout",
     "output_type": "stream",
     "text": []
    },
    {
     "data": {
      "text/plain": "                Processed\nBề rộng             55845\nChiều sâu           55845\nSâu lặp (5-15)      80422\nTốt nhất               16\nLeo đồi                16\nBeam (4)               30",
      "text/html": "<div>\n<style scoped>\n    .dataframe tbody tr th:only-of-type {\n        vertical-align: middle;\n    }\n\n    .dataframe tbody tr th {\n        vertical-align: top;\n    }\n\n    .dataframe thead th {\n        text-align: right;\n    }\n</style>\n<table border=\"1\" class=\"dataframe\">\n  <thead>\n    <tr style=\"text-align: right;\">\n      <th></th>\n      <th>Processed</th>\n    </tr>\n  </thead>\n  <tbody>\n    <tr>\n      <th>Bề rộng</th>\n      <td>55845</td>\n    </tr>\n    <tr>\n      <th>Chiều sâu</th>\n      <td>55845</td>\n    </tr>\n    <tr>\n      <th>Sâu lặp (5-15)</th>\n      <td>80422</td>\n    </tr>\n    <tr>\n      <th>Tốt nhất</th>\n      <td>16</td>\n    </tr>\n    <tr>\n      <th>Leo đồi</th>\n      <td>16</td>\n    </tr>\n    <tr>\n      <th>Beam (4)</th>\n      <td>30</td>\n    </tr>\n  </tbody>\n</table>\n</div>"
     },
     "metadata": {},
     "output_type": "display_data"
    }
   ],
   "source": [
    "result = np.full((6, 11), 0).tolist()\n",
    "count = [i for i in range(6)]\n",
    "path = [i for i in range(6)]\n",
    "for i in range(10):\n",
    "    if i == 0:\n",
    "        path[0], result[0][i], count[0] = BFS.BFS(test_4_15, 1)\n",
    "        path[1], result[1][i], count[1] = DFS.DFS(test_4_15, 1)\n",
    "        path[2], result[2][i], count[2] = Depth_Deepening_Search.Depth_Deepening_Search(test_4_15, 1)\n",
    "        path[3], result[3][i], count[3] = Best_First_Search.Best_First_Search(test_4_15, 1)\n",
    "        path[4], result[4][i], count[4] = Hill_Climbing_Search.Hill_Climbing_Search(test_4_15, 1)\n",
    "        path[5], result[5][i], count[5] = Beam_Search.Beam_Search(test_4_15, 1)\n",
    "    else:\n",
    "        for j in range(6):\n",
    "            if path[j] == \"Unsolvable!\":\n",
    "                result[j][i] = 999999\n",
    "            else:\n",
    "                match j:\n",
    "                    case 0:\n",
    "                        path[0], result[0][i], count[0] = BFS.BFS(test_4_15, 1)\n",
    "                    case 1:\n",
    "                        path[1], result[1][i], count[1] = DFS.DFS(test_4_15, 1)\n",
    "                    case 2:\n",
    "                        path[2], result[2][i], count[2] = Depth_Deepening_Search.Depth_Deepening_Search(test_4_15, 1)\n",
    "                    case 3:\n",
    "                        path[3], result[3][i], count[3] = Best_First_Search.Best_First_Search(test_4_15, 1)\n",
    "                    case 4:\n",
    "                        path[4], result[4][i], count[4] = Hill_Climbing_Search.Hill_Climbing_Search(test_4_15, 1)\n",
    "                    case 5:\n",
    "                        path[5], result[5][i], count[5] = Beam_Search.Beam_Search(test_4_15, 1)\n",
    "for i in range(6):\n",
    "    result[i][10] = np.average(result[i][0:10])\n",
    "for i in range(6):\n",
    "    for j in range(10):\n",
    "        if path[i] == \"Unsolvable!\":\n",
    "            if result[i][j] > 30000:\n",
    "                result[i][j] = \"N/A (Time out)\"\n",
    "                result[i][10] = \"N/A (Time out)\"\n",
    "            else:\n",
    "                result[i][j] = \"N/A (Unsolvable)\"\n",
    "                result[i][10] = \"N/A (Unsolvable)\"\n",
    "result = pd.DataFrame(result,\n",
    "                      index=[\"Bề rộng\", \"Chiều sâu\", \"Sâu lặp (5-15)\", \"Tốt nhất\", \"Leo đồi\", \"Beam (4)\"],\n",
    "                      columns=[i + 1 for i in range(10)] + [\"Trung bình\"])\n",
    "count = pd.DataFrame(count, index=[\"Bề rộng\", \"Chiều sâu\", \"Sâu lặp (5-15)\", \"Tốt nhất\", \"Leo đồi\", \"Beam (4)\"],\n",
    "                     columns=[\"Processed\"])\n",
    "display(result)\n",
    "print()\n",
    "display(count)"
   ],
   "metadata": {
    "collapsed": false,
    "ExecuteTime": {
     "end_time": "2023-08-08T17:06:41.114194900Z",
     "start_time": "2023-08-08T17:03:38.202768400Z"
    }
   },
   "id": "447b8117aeee4b36"
  }
 ],
 "metadata": {
  "kernelspec": {
   "display_name": "Python 3",
   "language": "python",
   "name": "python3"
  },
  "language_info": {
   "codemirror_mode": {
    "name": "ipython",
    "version": 2
   },
   "file_extension": ".py",
   "mimetype": "text/x-python",
   "name": "python",
   "nbconvert_exporter": "python",
   "pygments_lexer": "ipython2",
   "version": "2.7.6"
  }
 },
 "nbformat": 4,
 "nbformat_minor": 5
}
