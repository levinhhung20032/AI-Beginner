{
 "cells": [
  {
   "cell_type": "code",
   "execution_count": 1,
   "id": "initial_id",
   "metadata": {
    "collapsed": true,
    "ExecuteTime": {
     "end_time": "2023-08-08T16:55:36.393089500Z",
     "start_time": "2023-08-08T16:55:35.745713600Z"
    }
   },
   "outputs": [
    {
     "ename": "ModuleNotFoundError",
     "evalue": "No module named 'NhapMonAI_BTL'",
     "output_type": "error",
     "traceback": [
      "\u001B[1;31m---------------------------------------------------------------------------\u001B[0m",
      "\u001B[1;31mModuleNotFoundError\u001B[0m                       Traceback (most recent call last)",
      "Cell \u001B[1;32mIn[1], line 4\u001B[0m\n\u001B[0;32m      2\u001B[0m \u001B[38;5;28;01mimport\u001B[39;00m \u001B[38;5;21;01mpandas\u001B[39;00m \u001B[38;5;28;01mas\u001B[39;00m \u001B[38;5;21;01mpd\u001B[39;00m\n\u001B[0;32m      3\u001B[0m \u001B[38;5;28;01mfrom\u001B[39;00m \u001B[38;5;21;01mIPython\u001B[39;00m\u001B[38;5;21;01m.\u001B[39;00m\u001B[38;5;21;01mdisplay\u001B[39;00m \u001B[38;5;28;01mimport\u001B[39;00m display\n\u001B[1;32m----> 4\u001B[0m \u001B[38;5;28;01mfrom\u001B[39;00m \u001B[38;5;21;01mNhapMonAI_BTL\u001B[39;00m \u001B[38;5;28;01mimport\u001B[39;00m TaCanh\n\u001B[0;32m      5\u001B[0m \u001B[38;5;28;01mfrom\u001B[39;00m \u001B[38;5;21;01mNhapMonAI_BTL\u001B[39;00m \u001B[38;5;28;01mimport\u001B[39;00m BFS\n\u001B[0;32m      6\u001B[0m \u001B[38;5;28;01mfrom\u001B[39;00m \u001B[38;5;21;01mNhapMonAI_BTL\u001B[39;00m \u001B[38;5;28;01mimport\u001B[39;00m DFS\n",
      "\u001B[1;31mModuleNotFoundError\u001B[0m: No module named 'NhapMonAI_BTL'"
     ]
    }
   ],
   "source": [
    "import numpy as np\n",
    "import pandas as pd\n",
    "from IPython.display import display\n",
    "from BTL import TaCanh\n",
    "from BTL import BFS\n",
    "from BTL import DFS\n",
    "from BTL import Best_First_Search\n",
    "from BTL import Depth_Deepening_Search\n",
    "from BTL import Hill_Climbing_Search\n",
    "from BTL import Beam_Search"
   ]
  },
  {
   "cell_type": "code",
   "execution_count": null,
   "outputs": [],
   "source": [
    "# Test case for 3x3 and n steps:\n",
    "test_3_5 = [1, 2, 3, 7, 4, 5, 8, 9, 6]\n",
    "test_3_10 = [4, 1, 3, 5, 9, 6, 2, 7, 8]\n",
    "test_3_15 = [4, 6, 1, 7, 8, 2, 5, 9, 3]\n",
    "\n",
    "# Test case for 4x4 and n steps:\n",
    "test_4_5 = [1, 16, 3, 4, 5, 2, 7, 8, 9, 6, 10, 12, 13, 14, 11, 15]\n",
    "test_4_10 = [1, 2, 16, 3, 6, 7, 8, 4, 5, 10, 11, 12, 9, 13, 14, 15]\n",
    "test_4_15 = [5, 1, 2, 3, 9, 10, 6, 4, 13, 16, 7, 8, 14, 15, 11, 12]"
   ],
   "metadata": {
    "collapsed": false,
    "ExecuteTime": {
     "start_time": "2023-08-08T16:55:36.392092200Z"
    }
   },
   "id": "a4428cb163bb3f38"
  },
  {
   "cell_type": "markdown",
   "source": [
    "# Result of 3x3 and 5 steps:"
   ],
   "metadata": {
    "collapsed": false
   },
   "id": "b962787505d41da0"
  },
  {
   "cell_type": "code",
   "execution_count": null,
   "outputs": [],
   "source": [
    "result = np.full((6, 11), 0).tolist()\n",
    "count = [i for i in range(6)]\n",
    "path = [i for i in range(6)]\n",
    "for i in range(10):\n",
    "    if i == 0:\n",
    "        path[0], result[0][i], count[0] = BFS.BFS(test_3_5, 1)\n",
    "        path[1], result[1][i], count[1] = DFS.DFS(test_3_5, 1)\n",
    "        path[2], result[2][i], count[2] = Depth_Deepening_Search.Depth_Deepening_Search(test_3_5, 1)\n",
    "        path[3], result[3][i], count[3] = Best_First_Search.Best_First_Search(test_3_5, 1)\n",
    "        path[4], result[4][i], count[4] = Hill_Climbing_Search.Hill_Climbing_Search(test_3_5, 1)\n",
    "        path[5], result[5][i], count[5] = Beam_Search.Beam_Search(test_3_5, 1)\n",
    "    else:\n",
    "        for j in range(6):\n",
    "            if path[j] == \"Unsolvable!\":\n",
    "                result[j][i] = 999999\n",
    "            else:\n",
    "                match j:\n",
    "                    case 0:\n",
    "                        path[0], result[0][i], count[0] = BFS.BFS(test_3_5, 1)\n",
    "                    case 1:\n",
    "                        path[1], result[1][i], count[1] = DFS.DFS(test_3_5, 1)\n",
    "                    case 2:\n",
    "                        path[2], result[2][i], count[2] = Depth_Deepening_Search.Depth_Deepening_Search(test_3_5, 1)\n",
    "                    case 3:\n",
    "                        path[3], result[3][i], count[3] = Best_First_Search.Best_First_Search(test_3_5, 1)\n",
    "                    case 4:\n",
    "                        path[4], result[4][i], count[4] = Hill_Climbing_Search.Hill_Climbing_Search(test_3_5, 1)\n",
    "                    case 5:\n",
    "                        path[5], result[5][i], count[5] = Beam_Search.Beam_Search(test_3_5, 1)\n",
    "for i in range(6):\n",
    "    result[i][10] = np.average(result[i][0:10])\n",
    "for i in range(6):\n",
    "    for j in range(10):\n",
    "        if path[i] == \"Unsolvable!\":\n",
    "            if result[i][j] > 30000:\n",
    "                result[i][j] = \"N/A (Time out)\"\n",
    "                result[i][10] = \"N/A (Time out)\"\n",
    "            else:\n",
    "                result[i][j] = \"N/A (Unsolvable)\"\n",
    "                result[i][10] = \"N/A (Unsolvable)\"\n",
    "result = pd.DataFrame(result,\n",
    "                      index=[\"Bề rộng\", \"Chiều sâu\", \"Sâu lặp (5-15)\", \"Tốt nhất\", \"Leo đồi\", \"Beam (4)\"],\n",
    "                      columns=[i + 1 for i in range(10)] + [\"Trung bình\"])\n",
    "count = pd.DataFrame(count, index=[\"Bề rộng\", \"Chiều sâu\", \"Sâu lặp (5-15)\", \"Tốt nhất\", \"Leo đồi\", \"Beam (4)\"],\n",
    "                     columns=[\"Processed\"])\n",
    "display(result)\n",
    "print()\n",
    "display(count)"
   ],
   "metadata": {
    "collapsed": false,
    "ExecuteTime": {
     "start_time": "2023-08-08T16:55:36.393089500Z"
    }
   },
   "id": "b0418fb59a82569b"
  },
  {
   "cell_type": "markdown",
   "source": [
    "# Result of 3x3 and 10 steps:"
   ],
   "metadata": {
    "collapsed": false
   },
   "id": "bb9e96a37c0759e8"
  },
  {
   "cell_type": "code",
   "execution_count": null,
   "outputs": [],
   "source": [
    "result = np.full((6, 11), 0).tolist()\n",
    "count = [i for i in range(6)]\n",
    "path = [i for i in range(6)]\n",
    "for i in range(10):\n",
    "    if i == 0:\n",
    "        path[0], result[0][i], count[0] = BFS.BFS(test_3_10, 1)\n",
    "        path[1], result[1][i], count[1] = DFS.DFS(test_3_10, 1)\n",
    "        path[2], result[2][i], count[2] = Depth_Deepening_Search.Depth_Deepening_Search(test_3_10, 1)\n",
    "        path[3], result[3][i], count[3] = Best_First_Search.Best_First_Search(test_3_10, 1)\n",
    "        path[4], result[4][i], count[4] = Hill_Climbing_Search.Hill_Climbing_Search(test_3_10, 1)\n",
    "        path[5], result[5][i], count[5] = Beam_Search.Beam_Search(test_3_10, 1)\n",
    "    else:\n",
    "        for j in range(6):\n",
    "            if path[j] == \"Unsolvable!\":\n",
    "                result[j][i] = 999999\n",
    "            else:\n",
    "                match j:\n",
    "                    case 0:\n",
    "                        path[0], result[0][i], count[0] = BFS.BFS(test_3_10, 1)\n",
    "                    case 1:\n",
    "                        path[1], result[1][i], count[1] = DFS.DFS(test_3_10, 1)\n",
    "                    case 2:\n",
    "                        path[2], result[2][i], count[2] = Depth_Deepening_Search.Depth_Deepening_Search(test_3_10, 1)\n",
    "                    case 3:\n",
    "                        path[3], result[3][i], count[3] = Best_First_Search.Best_First_Search(test_3_10, 1)\n",
    "                    case 4:\n",
    "                        path[4], result[4][i], count[4] = Hill_Climbing_Search.Hill_Climbing_Search(test_3_10, 1)\n",
    "                    case 5:\n",
    "                        path[5], result[5][i], count[5] = Beam_Search.Beam_Search(test_3_10, 1)\n",
    "for i in range(6):\n",
    "    result[i][10] = np.average(result[i][0:10])\n",
    "for i in range(6):\n",
    "    for j in range(10):\n",
    "        if path[i] == \"Unsolvable!\":\n",
    "            if result[i][j] > 30000:\n",
    "                result[i][j] = \"N/A (Time out)\"\n",
    "                result[i][10] = \"N/A (Time out)\"\n",
    "            else:\n",
    "                result[i][j] = \"N/A (Unsolvable)\"\n",
    "                result[i][10] = \"N/A (Unsolvable)\"\n",
    "result = pd.DataFrame(result,\n",
    "                      index=[\"Bề rộng\", \"Chiều sâu\", \"Sâu lặp (5-15)\", \"Tốt nhất\", \"Leo đồi\", \"Beam (4)\"],\n",
    "                      columns=[i + 1 for i in range(10)] + [\"Trung bình\"])\n",
    "count = pd.DataFrame(count, index=[\"Bề rộng\", \"Chiều sâu\", \"Sâu lặp (5-15)\", \"Tốt nhất\", \"Leo đồi\", \"Beam (4)\"],\n",
    "                     columns=[\"Processed\"])\n",
    "display(result)\n",
    "print()\n",
    "display(count)"
   ],
   "metadata": {
    "collapsed": false,
    "ExecuteTime": {
     "end_time": "2023-08-08T16:55:36.396079100Z",
     "start_time": "2023-08-08T16:55:36.396079100Z"
    }
   },
   "id": "e759d844ada3d544"
  },
  {
   "cell_type": "markdown",
   "source": [
    "# Result of 3x3 and 15 steps:"
   ],
   "metadata": {
    "collapsed": false
   },
   "id": "8c2124c6b3edb252"
  },
  {
   "cell_type": "code",
   "execution_count": null,
   "outputs": [],
   "source": [
    "result = np.full((6, 11), 0).tolist()\n",
    "count = [i for i in range(6)]\n",
    "path = [i for i in range(6)]\n",
    "for i in range(10):\n",
    "    if i == 0:\n",
    "        path[0], result[0][i], count[0] = BFS.BFS(test_3_15, 1)\n",
    "        path[1], result[1][i], count[1] = DFS.DFS(test_3_15, 1)\n",
    "        path[2], result[2][i], count[2] = Depth_Deepening_Search.Depth_Deepening_Search(test_3_15, 1)\n",
    "        path[3], result[3][i], count[3] = Best_First_Search.Best_First_Search(test_3_15, 1)\n",
    "        path[4], result[4][i], count[4] = Hill_Climbing_Search.Hill_Climbing_Search(test_3_15, 1)\n",
    "        path[5], result[5][i], count[5] = Beam_Search.Beam_Search(test_3_15, 1)\n",
    "    else:\n",
    "        for j in range(6):\n",
    "            if path[j] == \"Unsolvable!\":\n",
    "                result[j][i] = 999999\n",
    "            else:\n",
    "                match j:\n",
    "                    case 0:\n",
    "                        path[0], result[0][i], count[0] = BFS.BFS(test_3_15, 1)\n",
    "                    case 1:\n",
    "                        path[1], result[1][i], count[1] = DFS.DFS(test_3_15, 1)\n",
    "                    case 2:\n",
    "                        path[2], result[2][i], count[2] = Depth_Deepening_Search.Depth_Deepening_Search(test_3_15, 1)\n",
    "                    case 3:\n",
    "                        path[3], result[3][i], count[3] = Best_First_Search.Best_First_Search(test_3_15, 1)\n",
    "                    case 4:\n",
    "                        path[4], result[4][i], count[4] = Hill_Climbing_Search.Hill_Climbing_Search(test_3_15, 1)\n",
    "                    case 5:\n",
    "                        path[5], result[5][i], count[5] = Beam_Search.Beam_Search(test_3_15, 1)\n",
    "for i in range(6):\n",
    "    result[i][10] = np.average(result[i][0:10])\n",
    "for i in range(6):\n",
    "    for j in range(10):\n",
    "        if path[i] == \"Unsolvable!\":\n",
    "            if result[i][j] > 30000:\n",
    "                result[i][j] = \"N/A (Time out)\"\n",
    "                result[i][10] = \"N/A (Time out)\"\n",
    "            else:\n",
    "                result[i][j] = \"N/A (Unsolvable)\"\n",
    "                result[i][10] = \"N/A (Unsolvable)\"\n",
    "result = pd.DataFrame(result,\n",
    "                      index=[\"Bề rộng\", \"Chiều sâu\", \"Sâu lặp (5-15)\", \"Tốt nhất\", \"Leo đồi\", \"Beam (4)\"],\n",
    "                      columns=[i + 1 for i in range(10)] + [\"Trung bình\"])\n",
    "count = pd.DataFrame(count, index=[\"Bề rộng\", \"Chiều sâu\", \"Sâu lặp (5-15)\", \"Tốt nhất\", \"Leo đồi\", \"Beam (4)\"],\n",
    "                     columns=[\"Processed\"])\n",
    "display(result)\n",
    "print()\n",
    "display(count)"
   ],
   "metadata": {
    "collapsed": false,
    "ExecuteTime": {
     "end_time": "2023-08-08T16:55:36.397075800Z",
     "start_time": "2023-08-08T16:55:36.396079100Z"
    }
   },
   "id": "a957d9a9f181b167"
  },
  {
   "cell_type": "markdown",
   "source": [
    "# Result of 4x4 and 5 steps:"
   ],
   "metadata": {
    "collapsed": false
   },
   "id": "26f7aee1aa1859f0"
  },
  {
   "cell_type": "code",
   "execution_count": null,
   "outputs": [],
   "source": [
    "result = np.full((6, 11), 0).tolist()\n",
    "count = [i for i in range(6)]\n",
    "path = [i for i in range(6)]\n",
    "for i in range(10):\n",
    "    if i == 0:\n",
    "        path[0], result[0][i], count[0] = BFS.BFS(test_4_5, 1)\n",
    "        path[1], result[1][i], count[1] = DFS.DFS(test_4_5, 1)\n",
    "        path[2], result[2][i], count[2] = Depth_Deepening_Search.Depth_Deepening_Search(test_4_5, 1)\n",
    "        path[3], result[3][i], count[3] = Best_First_Search.Best_First_Search(test_4_5, 1)\n",
    "        path[4], result[4][i], count[4] = Hill_Climbing_Search.Hill_Climbing_Search(test_4_5, 1)\n",
    "        path[5], result[5][i], count[5] = Beam_Search.Beam_Search(test_4_5, 1)\n",
    "    else:\n",
    "        for j in range(6):\n",
    "            if path[j] == \"Unsolvable!\":\n",
    "                result[j][i] = 999999\n",
    "            else:\n",
    "                match j:\n",
    "                    case 0:\n",
    "                        path[0], result[0][i], count[0] = BFS.BFS(test_4_5, 1)\n",
    "                    case 1:\n",
    "                        path[1], result[1][i], count[1] = DFS.DFS(test_4_5, 1)\n",
    "                    case 2:\n",
    "                        path[2], result[2][i], count[2] = Depth_Deepening_Search.Depth_Deepening_Search(test_4_5, 1)\n",
    "                    case 3:\n",
    "                        path[3], result[3][i], count[3] = Best_First_Search.Best_First_Search(test_4_5, 1)\n",
    "                    case 4:\n",
    "                        path[4], result[4][i], count[4] = Hill_Climbing_Search.Hill_Climbing_Search(test_4_5, 1)\n",
    "                    case 5:\n",
    "                        path[5], result[5][i], count[5] = Beam_Search.Beam_Search(test_4_5, 1)\n",
    "for i in range(6):\n",
    "    result[i][10] = np.average(result[i][0:10])\n",
    "for i in range(6):\n",
    "    for j in range(10):\n",
    "        if path[i] == \"Unsolvable!\":\n",
    "            if result[i][j] > 30000:\n",
    "                result[i][j] = \"N/A (Time out)\"\n",
    "                result[i][10] = \"N/A (Time out)\"\n",
    "            else:\n",
    "                result[i][j] = \"N/A (Unsolvable)\"\n",
    "                result[i][10] = \"N/A (Unsolvable)\"\n",
    "result = pd.DataFrame(result,\n",
    "                      index=[\"Bề rộng\", \"Chiều sâu\", \"Sâu lặp (5-15)\", \"Tốt nhất\", \"Leo đồi\", \"Beam (4)\"],\n",
    "                      columns=[i + 1 for i in range(10)] + [\"Trung bình\"])\n",
    "count = pd.DataFrame(count, index=[\"Bề rộng\", \"Chiều sâu\", \"Sâu lặp (5-15)\", \"Tốt nhất\", \"Leo đồi\", \"Beam (4)\"],\n",
    "                     columns=[\"Processed\"])\n",
    "display(result)\n",
    "print()\n",
    "display(count)"
   ],
   "metadata": {
    "collapsed": false,
    "ExecuteTime": {
     "start_time": "2023-08-08T16:55:36.396079100Z"
    }
   },
   "id": "30267df716b4470c"
  },
  {
   "cell_type": "markdown",
   "source": [
    "# Result of 4x4 and 10 steps:"
   ],
   "metadata": {
    "collapsed": false
   },
   "id": "2e4fc1494160d309"
  },
  {
   "cell_type": "code",
   "execution_count": null,
   "outputs": [],
   "source": [
    "result = np.full((6, 11), 0).tolist()\n",
    "count = [i for i in range(6)]\n",
    "path = [i for i in range(6)]\n",
    "for i in range(10):\n",
    "    if i == 0:\n",
    "        path[0], result[0][i], count[0] = BFS.BFS(test_4_10, 1)\n",
    "        path[1], result[1][i], count[1] = DFS.DFS(test_4_10, 1)\n",
    "        path[2], result[2][i], count[2] = Depth_Deepening_Search.Depth_Deepening_Search(test_4_10, 1)\n",
    "        path[3], result[3][i], count[3] = Best_First_Search.Best_First_Search(test_4_10, 1)\n",
    "        path[4], result[4][i], count[4] = Hill_Climbing_Search.Hill_Climbing_Search(test_4_10, 1)\n",
    "        path[5], result[5][i], count[5] = Beam_Search.Beam_Search(test_4_10, 1)\n",
    "    else:\n",
    "        for j in range(6):\n",
    "            if path[j] == \"Unsolvable!\":\n",
    "                result[j][i] = 999999\n",
    "            else:\n",
    "                match j:\n",
    "                    case 0:\n",
    "                        path[0], result[0][i], count[0] = BFS.BFS(test_4_10, 1)\n",
    "                    case 1:\n",
    "                        path[1], result[1][i], count[1] = DFS.DFS(test_4_10, 1)\n",
    "                    case 2:\n",
    "                        path[2], result[2][i], count[2] = Depth_Deepening_Search.Depth_Deepening_Search(test_4_10, 1)\n",
    "                    case 3:\n",
    "                        path[3], result[3][i], count[3] = Best_First_Search.Best_First_Search(test_4_10, 1)\n",
    "                    case 4:\n",
    "                        path[4], result[4][i], count[4] = Hill_Climbing_Search.Hill_Climbing_Search(test_4_10, 1)\n",
    "                    case 5:\n",
    "                        path[5], result[5][i], count[5] = Beam_Search.Beam_Search(test_4_10, 1)\n",
    "for i in range(6):\n",
    "    result[i][10] = np.average(result[i][0:10])\n",
    "for i in range(6):\n",
    "    for j in range(10):\n",
    "        if path[i] == \"Unsolvable!\":\n",
    "            if result[i][j] > 30000:\n",
    "                result[i][j] = \"N/A (Time out)\"\n",
    "                result[i][10] = \"N/A (Time out)\"\n",
    "            else:\n",
    "                result[i][j] = \"N/A (Unsolvable)\"\n",
    "                result[i][10] = \"N/A (Unsolvable)\"\n",
    "result = pd.DataFrame(result,\n",
    "                      index=[\"Bề rộng\", \"Chiều sâu\", \"Sâu lặp (5-15)\", \"Tốt nhất\", \"Leo đồi\", \"Beam (4)\"],\n",
    "                      columns=[i + 1 for i in range(10)] + [\"Trung bình\"])\n",
    "count = pd.DataFrame(count, index=[\"Bề rộng\", \"Chiều sâu\", \"Sâu lặp (5-15)\", \"Tốt nhất\", \"Leo đồi\", \"Beam (4)\"],\n",
    "                     columns=[\"Processed\"])\n",
    "display(result)\n",
    "print()\n",
    "display(count)"
   ],
   "metadata": {
    "collapsed": false,
    "ExecuteTime": {
     "start_time": "2023-08-08T16:55:36.397075800Z"
    }
   },
   "id": "440dc0475d3151bf"
  },
  {
   "cell_type": "markdown",
   "source": [
    "# Result of 4x4 and 15 steps:"
   ],
   "metadata": {
    "collapsed": false
   },
   "id": "4d5af32c126a72d4"
  },
  {
   "cell_type": "code",
   "execution_count": null,
   "outputs": [],
   "source": [
    "result = np.full((6, 11), 0).tolist()\n",
    "count = [i for i in range(6)]\n",
    "path = [i for i in range(6)]\n",
    "for i in range(10):\n",
    "    if i == 0:\n",
    "        path[0], result[0][i], count[0] = BFS.BFS(test_4_15, 1)\n",
    "        path[1], result[1][i], count[1] = DFS.DFS(test_4_15, 1)\n",
    "        path[2], result[2][i], count[2] = Depth_Deepening_Search.Depth_Deepening_Search(test_4_15, 1)\n",
    "        path[3], result[3][i], count[3] = Best_First_Search.Best_First_Search(test_4_15, 1)\n",
    "        path[4], result[4][i], count[4] = Hill_Climbing_Search.Hill_Climbing_Search(test_4_15, 1)\n",
    "        path[5], result[5][i], count[5] = Beam_Search.Beam_Search(test_4_15, 1)\n",
    "    else:\n",
    "        for j in range(6):\n",
    "            if path[j] == \"Unsolvable!\":\n",
    "                result[j][i] = 999999\n",
    "            else:\n",
    "                match j:\n",
    "                    case 0:\n",
    "                        path[0], result[0][i], count[0] = BFS.BFS(test_4_15, 1)\n",
    "                    case 1:\n",
    "                        path[1], result[1][i], count[1] = DFS.DFS(test_4_15, 1)\n",
    "                    case 2:\n",
    "                        path[2], result[2][i], count[2] = Depth_Deepening_Search.Depth_Deepening_Search(test_4_15, 1)\n",
    "                    case 3:\n",
    "                        path[3], result[3][i], count[3] = Best_First_Search.Best_First_Search(test_4_15, 1)\n",
    "                    case 4:\n",
    "                        path[4], result[4][i], count[4] = Hill_Climbing_Search.Hill_Climbing_Search(test_4_15, 1)\n",
    "                    case 5:\n",
    "                        path[5], result[5][i], count[5] = Beam_Search.Beam_Search(test_4_15, 1)\n",
    "for i in range(6):\n",
    "    result[i][10] = np.average(result[i][0:10])\n",
    "for i in range(6):\n",
    "    for j in range(10):\n",
    "        if path[i] == \"Unsolvable!\":\n",
    "            if result[i][j] > 30000:\n",
    "                result[i][j] = \"N/A (Time out)\"\n",
    "                result[i][10] = \"N/A (Time out)\"\n",
    "            else:\n",
    "                result[i][j] = \"N/A (Unsolvable)\"\n",
    "                result[i][10] = \"N/A (Unsolvable)\"\n",
    "result = pd.DataFrame(result,\n",
    "                      index=[\"Bề rộng\", \"Chiều sâu\", \"Sâu lặp (5-15)\", \"Tốt nhất\", \"Leo đồi\", \"Beam (4)\"],\n",
    "                      columns=[i + 1 for i in range(10)] + [\"Trung bình\"])\n",
    "count = pd.DataFrame(count, index=[\"Bề rộng\", \"Chiều sâu\", \"Sâu lặp (5-15)\", \"Tốt nhất\", \"Leo đồi\", \"Beam (4)\"],\n",
    "                     columns=[\"Processed\"])\n",
    "display(result)\n",
    "print()\n",
    "display(count)"
   ],
   "metadata": {
    "collapsed": false,
    "ExecuteTime": {
     "start_time": "2023-08-08T16:55:36.397075800Z"
    }
   },
   "id": "447b8117aeee4b36"
  }
 ],
 "metadata": {
  "kernelspec": {
   "display_name": "Python 3",
   "language": "python",
   "name": "python3"
  },
  "language_info": {
   "codemirror_mode": {
    "name": "ipython",
    "version": 2
   },
   "file_extension": ".py",
   "mimetype": "text/x-python",
   "name": "python",
   "nbconvert_exporter": "python",
   "pygments_lexer": "ipython2",
   "version": "2.7.6"
  }
 },
 "nbformat": 4,
 "nbformat_minor": 5
}
